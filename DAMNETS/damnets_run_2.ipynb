{
  "nbformat": 4,
  "nbformat_minor": 0,
  "metadata": {
    "colab": {
      "provenance": []
    },
    "kernelspec": {
      "name": "python3",
      "display_name": "Python 3"
    },
    "language_info": {
      "name": "python"
    }
  },
  "cells": [
    {
      "cell_type": "code",
      "execution_count": null,
      "metadata": {
        "id": "rSX8Iwv9SRNc"
      },
      "outputs": [],
      "source": [
        "from google.colab import drive\n",
        "drive.mount('/content/drive')"
      ]
    },
    {
      "cell_type": "code",
      "source": [
        "%cd drive/My Drive/DAMNETS_ICML_2022-main/"
      ],
      "metadata": {
        "id": "WxDEO8xcShf_"
      },
      "execution_count": null,
      "outputs": []
    },
    {
      "cell_type": "code",
      "source": [
        "!sudo apt-get update -y\n",
        "!sudo apt-get install python3.8\n",
        "from IPython.display import clear_output\n",
        "clear_output()\n",
        "!sudo update-alternatives --install /usr/bin/python3 python3 /usr/bin/python3.8 1\n",
        "!sudo update-alternatives  --set python3 /usr/bin/python3.8\n",
        "!sudo apt install python3-pip\n",
        "!sudo add-apt-repository ppa:deadsnakes/ppa\n",
        "!sudo apt-get update\n",
        "!sudo apt install python3.8-distutils"
      ],
      "metadata": {
        "id": "vLTuzYZUSo1V",
        "collapsed": true
      },
      "execution_count": null,
      "outputs": []
    },
    {
      "cell_type": "code",
      "source": [
        "!pip install torch==1.10.2+cu113 -f https://download.pytorch.org/whl/torch_stable.html\n",
        "!pip install PyYAML~=5.3.1\n",
        "!pip install easydict~=1.9\n",
        "!pip install matplotlib~=3.2.2\n",
        "!pip install tqdm~=4.48.2\n",
        "!pip install pandas~=1.0.5\n",
        "!pip install setuptools~=45.2.0\n",
        "!pip install six~=1.14.0\n",
        "!pip install powerlaw~=1.4.6\n",
        "!pip install tensorboard~=2.6.0\n",
        "!pip install networkx~=2.6.3\n",
        "!pip install pyg\n",
        "!pip install pickle\n",
        "!pip install protobuf==3.20.3\n",
        "!pip install ipykernel\n",
        "!pip install torch_geometric\n",
        "\n",
        "!pip install sklearn==0.0\n",
        "!pip install scikit-learn~=0.23.1\n",
        "!pip install numpy~=1.18.5\n",
        "!pip install scipy~=1.4.1"
      ],
      "metadata": {
        "id": "Pz6IP_pKSpYW"
      },
      "execution_count": null,
      "outputs": []
    },
    {
      "cell_type": "code",
      "source": [
        "!python run_exp.py -c age_3c.yaml"
      ],
      "metadata": {
        "id": "iDoje3BtUsPv"
      },
      "execution_count": null,
      "outputs": []
    },
    {
      "cell_type": "code",
      "source": [
        "!python run_exp.py -t"
      ],
      "metadata": {
        "id": "Y4MoSynNM7pF"
      },
      "execution_count": null,
      "outputs": []
    }
  ]
}